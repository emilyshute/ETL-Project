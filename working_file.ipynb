{
 "metadata": {
  "language_info": {
   "codemirror_mode": {
    "name": "ipython",
    "version": 3
   },
   "file_extension": ".py",
   "mimetype": "text/x-python",
   "name": "python",
   "nbconvert_exporter": "python",
   "pygments_lexer": "ipython3",
   "version": "3.7.7-final"
  },
  "orig_nbformat": 2,
  "kernelspec": {
   "name": "python_defaultSpec_1598668051757",
   "display_name": "Python 3.7.7 64-bit ('base': conda)"
  }
 },
 "nbformat": 4,
 "nbformat_minor": 2,
 "cells": [
  {
   "cell_type": "code",
   "execution_count": 1,
   "metadata": {},
   "outputs": [],
   "source": [
    "import pandas as pd\n",
    "from sqlalchemy import create_engine\n",
    "import json"
   ]
  },
  {
   "cell_type": "code",
   "execution_count": 2,
   "metadata": {},
   "outputs": [],
   "source": [
    "most_followed = \"/Users/matthewvicario/Desktop/ETL-Project/Resources/most_followed.csv\"\n",
    "hot_100 = \"/Users/matthewvicario/Desktop/ETL-Project/Resources/Hot_100.csv\""
   ]
  },
  {
   "cell_type": "code",
   "execution_count": 3,
   "metadata": {},
   "outputs": [
    {
     "output_type": "execute_result",
     "data": {
      "text/plain": "   RANK                 Name CATEGORIES 1 CATEGORIES 2   FOLLOWERS  \\\n0     1         Selena Gomez  celebrities    musicians  105.4Mæ(=)   \n1     2         Taylor Swift  celebrities    musicians   95.2Mæ(=)   \n2     3        Ariana Grande  celebrities    musicians   92.3Mæ(=)   \n3     4              Beyonce  celebrities    musicians   90.6Mæ(=)   \n4     5  Kim Kardashian West  celebrities           tv   89.3Mæ(=)   \n\n             ER iPOSTS ON HASHTAG MEDIA POSTED  \n0  2.62%æ(1342)        14.5Mæ(48)  1.2kæ(2135)  \n1  1.96%æ(2040)        10.5Mæ(66)   958æ(2669)  \n2  1.43%æ(2759)        16.9Mæ(41)   2.8kæ(824)  \n3  2.53%æ(1427)         9.2Mæ(70)  1.4kæ(1897)  \n4  1.39%æ(2812)        5.1Mæ(130)   3.6kæ(550)  ",
      "text/html": "<div>\n<style scoped>\n    .dataframe tbody tr th:only-of-type {\n        vertical-align: middle;\n    }\n\n    .dataframe tbody tr th {\n        vertical-align: top;\n    }\n\n    .dataframe thead th {\n        text-align: right;\n    }\n</style>\n<table border=\"1\" class=\"dataframe\">\n  <thead>\n    <tr style=\"text-align: right;\">\n      <th></th>\n      <th>RANK</th>\n      <th>Name</th>\n      <th>CATEGORIES 1</th>\n      <th>CATEGORIES 2</th>\n      <th>FOLLOWERS</th>\n      <th>ER</th>\n      <th>iPOSTS ON HASHTAG</th>\n      <th>MEDIA POSTED</th>\n    </tr>\n  </thead>\n  <tbody>\n    <tr>\n      <th>0</th>\n      <td>1</td>\n      <td>Selena Gomez</td>\n      <td>celebrities</td>\n      <td>musicians</td>\n      <td>105.4Mæ(=)</td>\n      <td>2.62%æ(1342)</td>\n      <td>14.5Mæ(48)</td>\n      <td>1.2kæ(2135)</td>\n    </tr>\n    <tr>\n      <th>1</th>\n      <td>2</td>\n      <td>Taylor Swift</td>\n      <td>celebrities</td>\n      <td>musicians</td>\n      <td>95.2Mæ(=)</td>\n      <td>1.96%æ(2040)</td>\n      <td>10.5Mæ(66)</td>\n      <td>958æ(2669)</td>\n    </tr>\n    <tr>\n      <th>2</th>\n      <td>3</td>\n      <td>Ariana Grande</td>\n      <td>celebrities</td>\n      <td>musicians</td>\n      <td>92.3Mæ(=)</td>\n      <td>1.43%æ(2759)</td>\n      <td>16.9Mæ(41)</td>\n      <td>2.8kæ(824)</td>\n    </tr>\n    <tr>\n      <th>3</th>\n      <td>4</td>\n      <td>Beyonce</td>\n      <td>celebrities</td>\n      <td>musicians</td>\n      <td>90.6Mæ(=)</td>\n      <td>2.53%æ(1427)</td>\n      <td>9.2Mæ(70)</td>\n      <td>1.4kæ(1897)</td>\n    </tr>\n    <tr>\n      <th>4</th>\n      <td>5</td>\n      <td>Kim Kardashian West</td>\n      <td>celebrities</td>\n      <td>tv</td>\n      <td>89.3Mæ(=)</td>\n      <td>1.39%æ(2812)</td>\n      <td>5.1Mæ(130)</td>\n      <td>3.6kæ(550)</td>\n    </tr>\n  </tbody>\n</table>\n</div>"
     },
     "metadata": {},
     "execution_count": 3
    }
   ],
   "source": [
    "most_followed_df = pd.read_csv(most_followed)\n",
    "most_followed_df.head()"
   ]
  },
  {
   "cell_type": "code",
   "execution_count": 4,
   "metadata": {},
   "outputs": [
    {
     "output_type": "execute_result",
     "data": {
      "text/plain": "                  Name CATEGORIES 1 CATEGORIES 2   FOLLOWERS\n0         Selena Gomez  celebrities    musicians  105.4Mæ(=)\n1         Taylor Swift  celebrities    musicians   95.2Mæ(=)\n2        Ariana Grande  celebrities    musicians   92.3Mæ(=)\n3              Beyonce  celebrities    musicians   90.6Mæ(=)\n4  Kim Kardashian West  celebrities           tv   89.3Mæ(=)",
      "text/html": "<div>\n<style scoped>\n    .dataframe tbody tr th:only-of-type {\n        vertical-align: middle;\n    }\n\n    .dataframe tbody tr th {\n        vertical-align: top;\n    }\n\n    .dataframe thead th {\n        text-align: right;\n    }\n</style>\n<table border=\"1\" class=\"dataframe\">\n  <thead>\n    <tr style=\"text-align: right;\">\n      <th></th>\n      <th>Name</th>\n      <th>CATEGORIES 1</th>\n      <th>CATEGORIES 2</th>\n      <th>FOLLOWERS</th>\n    </tr>\n  </thead>\n  <tbody>\n    <tr>\n      <th>0</th>\n      <td>Selena Gomez</td>\n      <td>celebrities</td>\n      <td>musicians</td>\n      <td>105.4Mæ(=)</td>\n    </tr>\n    <tr>\n      <th>1</th>\n      <td>Taylor Swift</td>\n      <td>celebrities</td>\n      <td>musicians</td>\n      <td>95.2Mæ(=)</td>\n    </tr>\n    <tr>\n      <th>2</th>\n      <td>Ariana Grande</td>\n      <td>celebrities</td>\n      <td>musicians</td>\n      <td>92.3Mæ(=)</td>\n    </tr>\n    <tr>\n      <th>3</th>\n      <td>Beyonce</td>\n      <td>celebrities</td>\n      <td>musicians</td>\n      <td>90.6Mæ(=)</td>\n    </tr>\n    <tr>\n      <th>4</th>\n      <td>Kim Kardashian West</td>\n      <td>celebrities</td>\n      <td>tv</td>\n      <td>89.3Mæ(=)</td>\n    </tr>\n  </tbody>\n</table>\n</div>"
     },
     "metadata": {},
     "execution_count": 4
    }
   ],
   "source": [
    "new_most_followed = most_followed_df[[\"Name\", \"CATEGORIES 1\", \"CATEGORIES 2\", \"FOLLOWERS\"]]\n",
    "new_most_followed.head()"
   ]
  },
  {
   "cell_type": "code",
   "execution_count": 5,
   "metadata": {},
   "outputs": [
    {
     "output_type": "execute_result",
     "data": {
      "text/plain": "             Performer     Category Subcategory   Followers\n0         Selena Gomez  celebrities   musicians  105.4Mæ(=)\n1         Taylor Swift  celebrities   musicians   95.2Mæ(=)\n2        Ariana Grande  celebrities   musicians   92.3Mæ(=)\n3              Beyonce  celebrities   musicians   90.6Mæ(=)\n4  Kim Kardashian West  celebrities          tv   89.3Mæ(=)",
      "text/html": "<div>\n<style scoped>\n    .dataframe tbody tr th:only-of-type {\n        vertical-align: middle;\n    }\n\n    .dataframe tbody tr th {\n        vertical-align: top;\n    }\n\n    .dataframe thead th {\n        text-align: right;\n    }\n</style>\n<table border=\"1\" class=\"dataframe\">\n  <thead>\n    <tr style=\"text-align: right;\">\n      <th></th>\n      <th>Performer</th>\n      <th>Category</th>\n      <th>Subcategory</th>\n      <th>Followers</th>\n    </tr>\n  </thead>\n  <tbody>\n    <tr>\n      <th>0</th>\n      <td>Selena Gomez</td>\n      <td>celebrities</td>\n      <td>musicians</td>\n      <td>105.4Mæ(=)</td>\n    </tr>\n    <tr>\n      <th>1</th>\n      <td>Taylor Swift</td>\n      <td>celebrities</td>\n      <td>musicians</td>\n      <td>95.2Mæ(=)</td>\n    </tr>\n    <tr>\n      <th>2</th>\n      <td>Ariana Grande</td>\n      <td>celebrities</td>\n      <td>musicians</td>\n      <td>92.3Mæ(=)</td>\n    </tr>\n    <tr>\n      <th>3</th>\n      <td>Beyonce</td>\n      <td>celebrities</td>\n      <td>musicians</td>\n      <td>90.6Mæ(=)</td>\n    </tr>\n    <tr>\n      <th>4</th>\n      <td>Kim Kardashian West</td>\n      <td>celebrities</td>\n      <td>tv</td>\n      <td>89.3Mæ(=)</td>\n    </tr>\n  </tbody>\n</table>\n</div>"
     },
     "metadata": {},
     "execution_count": 5
    }
   ],
   "source": [
    "new_most_followed = new_most_followed.rename(columns={\"Name\": \"Performer\",\"CATEGORIES 1\":\"Category\", \"CATEGORIES 2\":\"Subcategory\",\"FOLLOWERS\":\"Followers\"})\n",
    "new_most_followed.head()"
   ]
  },
  {
   "cell_type": "code",
   "execution_count": 6,
   "metadata": {},
   "outputs": [
    {
     "output_type": "execute_result",
     "data": {
      "text/plain": "             Performer     Category Subcategory Followers\n0         Selena Gomez  celebrities   musicians    105.4M\n1         Taylor Swift  celebrities   musicians     95.2M\n2        Ariana Grande  celebrities   musicians     92.3M\n3              Beyonce  celebrities   musicians     90.6M\n4  Kim Kardashian West  celebrities          tv     89.3M\n5    Cristiano Ronaldo  celebrities    athletes     85.1M\n6         Kylie Jenner  celebrities      models     81.8M\n7        Justin Bieber  celebrities   musicians     77.9M\n8       Dwayne Johnson  celebrities    athletes     73.3M\n9       Kendall Jenner  celebrities      models     70.9M",
      "text/html": "<div>\n<style scoped>\n    .dataframe tbody tr th:only-of-type {\n        vertical-align: middle;\n    }\n\n    .dataframe tbody tr th {\n        vertical-align: top;\n    }\n\n    .dataframe thead th {\n        text-align: right;\n    }\n</style>\n<table border=\"1\" class=\"dataframe\">\n  <thead>\n    <tr style=\"text-align: right;\">\n      <th></th>\n      <th>Performer</th>\n      <th>Category</th>\n      <th>Subcategory</th>\n      <th>Followers</th>\n    </tr>\n  </thead>\n  <tbody>\n    <tr>\n      <th>0</th>\n      <td>Selena Gomez</td>\n      <td>celebrities</td>\n      <td>musicians</td>\n      <td>105.4M</td>\n    </tr>\n    <tr>\n      <th>1</th>\n      <td>Taylor Swift</td>\n      <td>celebrities</td>\n      <td>musicians</td>\n      <td>95.2M</td>\n    </tr>\n    <tr>\n      <th>2</th>\n      <td>Ariana Grande</td>\n      <td>celebrities</td>\n      <td>musicians</td>\n      <td>92.3M</td>\n    </tr>\n    <tr>\n      <th>3</th>\n      <td>Beyonce</td>\n      <td>celebrities</td>\n      <td>musicians</td>\n      <td>90.6M</td>\n    </tr>\n    <tr>\n      <th>4</th>\n      <td>Kim Kardashian West</td>\n      <td>celebrities</td>\n      <td>tv</td>\n      <td>89.3M</td>\n    </tr>\n    <tr>\n      <th>5</th>\n      <td>Cristiano Ronaldo</td>\n      <td>celebrities</td>\n      <td>athletes</td>\n      <td>85.1M</td>\n    </tr>\n    <tr>\n      <th>6</th>\n      <td>Kylie Jenner</td>\n      <td>celebrities</td>\n      <td>models</td>\n      <td>81.8M</td>\n    </tr>\n    <tr>\n      <th>7</th>\n      <td>Justin Bieber</td>\n      <td>celebrities</td>\n      <td>musicians</td>\n      <td>77.9M</td>\n    </tr>\n    <tr>\n      <th>8</th>\n      <td>Dwayne Johnson</td>\n      <td>celebrities</td>\n      <td>athletes</td>\n      <td>73.3M</td>\n    </tr>\n    <tr>\n      <th>9</th>\n      <td>Kendall Jenner</td>\n      <td>celebrities</td>\n      <td>models</td>\n      <td>70.9M</td>\n    </tr>\n  </tbody>\n</table>\n</div>"
     },
     "metadata": {},
     "execution_count": 6
    }
   ],
   "source": [
    "# start and stop variables \n",
    "start, stop = 0, -4\n",
    "  \n",
    "# converting to string data type \n",
    "new_most_followed[\"Followers\"]= new_most_followed[\"Followers\"].astype(str) \n",
    "  \n",
    "# slicing till 2nd last element \n",
    "new_most_followed[\"Followers\"]= new_most_followed[\"Followers\"].str.slice(start, stop) \n",
    "  \n",
    "# display \n",
    "new_most_followed.head(10)"
   ]
  },
  {
   "cell_type": "code",
   "execution_count": null,
   "metadata": {},
   "outputs": [],
   "source": []
  }
 ]
}